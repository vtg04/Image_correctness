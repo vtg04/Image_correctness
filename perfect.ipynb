{
 "cells": [
  {
   "cell_type": "code",
   "execution_count": 8,
   "id": "1ec84962",
   "metadata": {},
   "outputs": [],
   "source": [
    "import pandas as pd\n",
    "from sklearn.model_selection import train_test_split\n",
    "\n",
    "import tensorflow as tf\n",
    "from tensorflow.keras import layers\n",
    "from tensorflow.keras import Model\n",
    "from tensorflow.keras.applications import VGG16\n",
    "from tensorflow.keras.applications.vgg16 import preprocess_input\n",
    "from tensorflow.keras.layers import Conv2D, MaxPooling2D, Flatten, Dense\n",
    "from tensorflow.keras.optimizers import Adam\n",
    "from tensorflow.keras.losses import categorical_crossentropy\n",
    "from tensorflow.keras.callbacks import ModelCheckpoint, EarlyStopping\n",
    "from tensorflow.keras.preprocessing.image import ImageDataGenerator"
   ]
  },
  {
   "cell_type": "code",
   "execution_count": 5,
   "id": "77881644",
   "metadata": {},
   "outputs": [],
   "source": [
    "csv_file_path = 'fashion.csv'\n",
    "df = pd.read_csv(csv_file_path)\n",
    "\n",
    "train_df, val_df = train_test_split(df, test_size=0.25, random_state=42)\n",
    "\n",
    "train_datagen = ImageDataGenerator(rescale=1./255, validation_split=0.2)\n",
    "val_datagen = ImageDataGenerator(rescale=1./255, validation_split=0.2)\n",
    "\n",
    "images_dir = 'images_with_product_ids'"
   ]
  },
  {
   "cell_type": "code",
   "execution_count": 6,
   "id": "6f282ad3",
   "metadata": {},
   "outputs": [
    {
     "name": "stdout",
     "output_type": "stream",
     "text": [
      "Found 1744 validated image filenames belonging to 9 classes.\n"
     ]
    }
   ],
   "source": [
    "train_generator = train_datagen.flow_from_dataframe(\n",
    "    dataframe=train_df,\n",
    "    directory=images_dir,\n",
    "    x_col='Image',\n",
    "    y_col='SubCategory',\n",
    "    target_size=(300, 300),\n",
    "    batch_size=32,\n",
    "    class_mode='categorical',\n",
    "    subset='training'\n",
    ")"
   ]
  },
  {
   "cell_type": "code",
   "execution_count": 7,
   "id": "b0097431",
   "metadata": {},
   "outputs": [
    {
     "name": "stdout",
     "output_type": "stream",
     "text": [
      "Found 145 validated image filenames belonging to 9 classes.\n"
     ]
    }
   ],
   "source": [
    "val_generator = val_datagen.flow_from_dataframe(\n",
    "    dataframe=val_df,\n",
    "    directory=images_dir,\n",
    "    x_col='Image',\n",
    "    y_col='SubCategory',\n",
    "    target_size=(300, 300),\n",
    "    batch_size=32,\n",
    "    class_mode='categorical',\n",
    "    subset='validation'\n",
    ")"
   ]
  },
  {
   "cell_type": "code",
   "execution_count": 9,
   "id": "4670df0e",
   "metadata": {},
   "outputs": [],
   "source": [
    "def create_cnn_model(input_shape=(300, 300, 3), num_classes=9):\n",
    "    base_model = VGG16(input_shape=input_shape, include_top=False, weights='imagenet')\n",
    "    \n",
    "    for layer in base_model.layers:\n",
    "        layer.trainable = False\n",
    "\n",
    "    x = base_model.output\n",
    "    x = Flatten()(x)\n",
    "    x = Dense(256, activation='relu')(x)\n",
    "    x = Dense(num_classes, activation='softmax')(x)\n",
    "\n",
    "    model = Model(inputs=base_model.input, outputs=x)\n",
    "    return model"
   ]
  },
  {
   "cell_type": "code",
   "execution_count": 10,
   "id": "fd59ca54",
   "metadata": {},
   "outputs": [
    {
     "name": "stdout",
     "output_type": "stream",
     "text": [
      "Model: \"model_1\"\n",
      "_________________________________________________________________\n",
      " Layer (type)                Output Shape              Param #   \n",
      "=================================================================\n",
      " input_2 (InputLayer)        [(None, 300, 300, 3)]     0         \n",
      "                                                                 \n",
      " block1_conv1 (Conv2D)       (None, 300, 300, 64)      1792      \n",
      "                                                                 \n",
      " block1_conv2 (Conv2D)       (None, 300, 300, 64)      36928     \n",
      "                                                                 \n",
      " block1_pool (MaxPooling2D)  (None, 150, 150, 64)      0         \n",
      "                                                                 \n",
      " block2_conv1 (Conv2D)       (None, 150, 150, 128)     73856     \n",
      "                                                                 \n",
      " block2_conv2 (Conv2D)       (None, 150, 150, 128)     147584    \n",
      "                                                                 \n",
      " block2_pool (MaxPooling2D)  (None, 75, 75, 128)       0         \n",
      "                                                                 \n",
      " block3_conv1 (Conv2D)       (None, 75, 75, 256)       295168    \n",
      "                                                                 \n",
      " block3_conv2 (Conv2D)       (None, 75, 75, 256)       590080    \n",
      "                                                                 \n",
      " block3_conv3 (Conv2D)       (None, 75, 75, 256)       590080    \n",
      "                                                                 \n",
      " block3_pool (MaxPooling2D)  (None, 37, 37, 256)       0         \n",
      "                                                                 \n",
      " block4_conv1 (Conv2D)       (None, 37, 37, 512)       1180160   \n",
      "                                                                 \n",
      " block4_conv2 (Conv2D)       (None, 37, 37, 512)       2359808   \n",
      "                                                                 \n",
      " block4_conv3 (Conv2D)       (None, 37, 37, 512)       2359808   \n",
      "                                                                 \n",
      " block4_pool (MaxPooling2D)  (None, 18, 18, 512)       0         \n",
      "                                                                 \n",
      " block5_conv1 (Conv2D)       (None, 18, 18, 512)       2359808   \n",
      "                                                                 \n",
      " block5_conv2 (Conv2D)       (None, 18, 18, 512)       2359808   \n",
      "                                                                 \n",
      " block5_conv3 (Conv2D)       (None, 18, 18, 512)       2359808   \n",
      "                                                                 \n",
      " block5_pool (MaxPooling2D)  (None, 9, 9, 512)         0         \n",
      "                                                                 \n",
      " flatten_1 (Flatten)         (None, 41472)             0         \n",
      "                                                                 \n",
      " dense_2 (Dense)             (None, 256)               10617088  \n",
      "                                                                 \n",
      " dense_3 (Dense)             (None, 9)                 2313      \n",
      "                                                                 \n",
      "=================================================================\n",
      "Total params: 25334089 (96.64 MB)\n",
      "Trainable params: 10619401 (40.51 MB)\n",
      "Non-trainable params: 14714688 (56.13 MB)\n",
      "_________________________________________________________________\n"
     ]
    }
   ],
   "source": [
    "model = create_cnn_model()\n",
    "model.compile(optimizer=Adam(learning_rate=0.001), loss=categorical_crossentropy, metrics=['accuracy'])\n",
    "\n",
    "model.summary()"
   ]
  },
  {
   "cell_type": "code",
   "execution_count": 11,
   "id": "daada785",
   "metadata": {},
   "outputs": [
    {
     "name": "stdout",
     "output_type": "stream",
     "text": [
      "Epoch 1/10\n",
      "55/55 [==============================] - 232s 4s/step - loss: 1.1978 - accuracy: 0.8394 - val_loss: 0.0991 - val_accuracy: 0.9655\n",
      "Epoch 2/10\n",
      "55/55 [==============================] - 234s 4s/step - loss: 0.1288 - accuracy: 0.9639 - val_loss: 0.0939 - val_accuracy: 0.9724\n",
      "Epoch 3/10\n",
      "55/55 [==============================] - 235s 4s/step - loss: 0.0452 - accuracy: 0.9862 - val_loss: 0.1614 - val_accuracy: 0.9517\n",
      "Epoch 4/10\n",
      "55/55 [==============================] - 236s 4s/step - loss: 0.0227 - accuracy: 0.9920 - val_loss: 0.1067 - val_accuracy: 0.9724\n",
      "Epoch 5/10\n",
      "55/55 [==============================] - 235s 4s/step - loss: 0.0076 - accuracy: 0.9989 - val_loss: 0.1094 - val_accuracy: 0.9724\n",
      "Epoch 6/10\n",
      "55/55 [==============================] - 236s 4s/step - loss: 0.0090 - accuracy: 0.9971 - val_loss: 0.0998 - val_accuracy: 0.9793\n",
      "Epoch 7/10\n",
      "55/55 [==============================] - 236s 4s/step - loss: 0.0026 - accuracy: 1.0000 - val_loss: 0.1259 - val_accuracy: 0.9793\n",
      "Epoch 8/10\n",
      "55/55 [==============================] - 236s 4s/step - loss: 0.0013 - accuracy: 1.0000 - val_loss: 0.0921 - val_accuracy: 0.9793\n",
      "Epoch 9/10\n",
      "55/55 [==============================] - 243s 4s/step - loss: 8.2334e-04 - accuracy: 1.0000 - val_loss: 0.1129 - val_accuracy: 0.9793\n",
      "Epoch 10/10\n",
      "55/55 [==============================] - 241s 4s/step - loss: 6.7559e-04 - accuracy: 1.0000 - val_loss: 0.1139 - val_accuracy: 0.9793\n"
     ]
    },
    {
     "data": {
      "text/plain": [
       "<keras.src.callbacks.History at 0x1829f0d56f0>"
      ]
     },
     "execution_count": 11,
     "metadata": {},
     "output_type": "execute_result"
    }
   ],
   "source": [
    "model.fit(train_generator, epochs=10, steps_per_epoch=len(train_generator), validation_data=val_generator, validation_steps=len(val_generator))\n"
   ]
  },
  {
   "cell_type": "code",
   "execution_count": 13,
   "id": "6558360e",
   "metadata": {},
   "outputs": [],
   "source": [
    "model.save('model.keras')"
   ]
  }
 ],
 "metadata": {
  "kernelspec": {
   "display_name": "Python 3 (ipykernel)",
   "language": "python",
   "name": "python3"
  },
  "language_info": {
   "codemirror_mode": {
    "name": "ipython",
    "version": 3
   },
   "file_extension": ".py",
   "mimetype": "text/x-python",
   "name": "python",
   "nbconvert_exporter": "python",
   "pygments_lexer": "ipython3",
   "version": "3.10.0"
  }
 },
 "nbformat": 4,
 "nbformat_minor": 5
}
